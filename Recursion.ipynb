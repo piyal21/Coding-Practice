{
 "cells": [
  {
   "cell_type": "code",
   "execution_count": 1,
   "id": "0d1a8ae7",
   "metadata": {},
   "outputs": [
    {
     "name": "stdout",
     "output_type": "stream",
     "text": [
      "4\n",
      "3\n",
      "2\n",
      "1\n"
     ]
    }
   ],
   "source": [
    "# --> Printing N - 1 \n",
    "\n",
    "def printNto1(i):\n",
    "    if i < 1:\n",
    "        return\n",
    "    print(i)\n",
    "    printNto1(i-1)\n",
    "    \n",
    "    \n",
    "k = int(input('Enter Nth value: '))\n",
    "printNto1(k)"
   ]
  },
  {
   "cell_type": "code",
   "execution_count": 3,
   "id": "687376b9",
   "metadata": {},
   "outputs": [
    {
     "name": "stdout",
     "output_type": "stream",
     "text": [
      "55\n"
     ]
    }
   ],
   "source": [
    "# --> Functional Recursion\n",
    "# --> Sum of 1 -N using recursion\n",
    "\n",
    "\n",
    "def SumUsingRecursion(sum,i,n):\n",
    "    \n",
    "    if i > n :\n",
    "        print(sum)\n",
    "        return\n",
    "    sum += i \n",
    "    SumUsingRecursion(sum,i+1,n)\n",
    "    \n",
    "    \n",
    "SumUsingRecursion(0,1,10)"
   ]
  },
  {
   "cell_type": "code",
   "execution_count": 5,
   "id": "e6978b10",
   "metadata": {},
   "outputs": [
    {
     "name": "stdout",
     "output_type": "stream",
     "text": [
      "Sum of 1 to  10  is =   55\n"
     ]
    }
   ],
   "source": [
    "# --> Sum of 1 - N using math \n",
    "\n",
    "def sumofnumbers(n):\n",
    "    return (n*(n+1)//2)\n",
    "\n",
    "k = int(input('Enter value :'))\n",
    "\n",
    "print('Sum of 1 to ',k,' is =  ',sumofnumbers(k))"
   ]
  },
  {
   "cell_type": "code",
   "execution_count": 7,
   "id": "5f92cbb3",
   "metadata": {},
   "outputs": [
    {
     "data": {
      "text/plain": [
       "10"
      ]
     },
     "execution_count": 7,
     "metadata": {},
     "output_type": "execute_result"
    }
   ],
   "source": [
    "# Minimal code for fiding sum \n",
    "\n",
    "def fidingsum(n):\n",
    "    if n ==1:\n",
    "        return 1\n",
    "    return n+fidingsum(n-1)\n",
    "\n",
    "fidingsum(4)"
   ]
  },
  {
   "cell_type": "code",
   "execution_count": 10,
   "id": "74010a4f",
   "metadata": {},
   "outputs": [
    {
     "data": {
      "text/plain": [
       "1"
      ]
     },
     "execution_count": 10,
     "metadata": {},
     "output_type": "execute_result"
    }
   ],
   "source": [
    "# Factorial using recursion \n",
    "\n",
    "def factorial1(n):\n",
    "    if n==0 or n==1:\n",
    "        return 1\n",
    "    return n * factorial1(n-1)\n",
    "\n",
    "factorial1(0)"
   ]
  },
  {
   "cell_type": "code",
   "execution_count": 16,
   "id": "76bf6a37",
   "metadata": {},
   "outputs": [
    {
     "name": "stdout",
     "output_type": "stream",
     "text": [
      "9\n",
      "5\n",
      "1\n",
      "6\n",
      "2\n",
      "3\n",
      "7\n",
      "5\n",
      "9\n"
     ]
    }
   ],
   "source": [
    "# Reverse an array using recursion \n",
    "\n",
    "\n",
    "num_list = [5,7,3,2,6,1,5,9]\n",
    "\n",
    "n = len(num_list)\n",
    "\n",
    "def reverse1(n):\n",
    "    if n < 0:\n",
    "        return \n",
    "    print(num_list[n-1])\n",
    "    reverse1(n-1)\n",
    "\n",
    "\n",
    "reverse1(n)"
   ]
  },
  {
   "cell_type": "code",
   "execution_count": 19,
   "id": "bfcb5ff1",
   "metadata": {},
   "outputs": [
    {
     "name": "stdout",
     "output_type": "stream",
     "text": [
      "[9, 5, 1, 6, 2, 3, 7, 5]\n"
     ]
    }
   ],
   "source": [
    "num_list = [5,7,3,2,6,1,5,9]\n",
    "\n",
    "\n",
    "def revlist(l,left,right):\n",
    "    if left >= right:\n",
    "        return\n",
    "    \n",
    "    l[left],l[right]= l[right],l[left]\n",
    "    revlist(l,left+1,right-1)\n",
    "    \n",
    "revlist(num_list,0,len(num_list)-1)\n",
    "print(num_list)\n",
    "    "
   ]
  },
  {
   "cell_type": "code",
   "execution_count": null,
   "id": "24ed3b2f",
   "metadata": {},
   "outputs": [],
   "source": []
  },
  {
   "cell_type": "code",
   "execution_count": null,
   "id": "9cfeecc3",
   "metadata": {},
   "outputs": [],
   "source": []
  },
  {
   "cell_type": "code",
   "execution_count": null,
   "id": "6839ff3c",
   "metadata": {},
   "outputs": [],
   "source": []
  }
 ],
 "metadata": {
  "kernelspec": {
   "display_name": "base",
   "language": "python",
   "name": "python3"
  },
  "language_info": {
   "codemirror_mode": {
    "name": "ipython",
    "version": 3
   },
   "file_extension": ".py",
   "mimetype": "text/x-python",
   "name": "python",
   "nbconvert_exporter": "python",
   "pygments_lexer": "ipython3",
   "version": "3.12.7"
  }
 },
 "nbformat": 4,
 "nbformat_minor": 5
}
