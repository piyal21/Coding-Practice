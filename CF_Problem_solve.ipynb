{
 "cells": [
  {
   "cell_type": "code",
   "execution_count": null,
   "id": "f52dc30d",
   "metadata": {},
   "outputs": [],
   "source": [
    "test_case = int(input('Enter test case: '))\n",
    "for i in range (0,test_case):\n",
    "    k = str(input())\n",
    "    check(k)\n",
    "        \n",
    "        \n",
    "    \n",
    "    \n",
    "def check(k):\n",
    "    if k == 'abc':\n",
    "        print('yes')\n",
    "    \n",
    "    "
   ]
  },
  {
   "cell_type": "code",
   "execution_count": 4,
   "id": "7d8b83ea",
   "metadata": {},
   "outputs": [
    {
     "name": "stdout",
     "output_type": "stream",
     "text": [
      "3\n",
      "7\n",
      "11\n",
      "15\n"
     ]
    }
   ],
   "source": [
    "test_cases = int(input())\n",
    "for i in range (0,test_cases):\n",
    "    a, b = map(int,input().split())\n",
    "    print(a+b)"
   ]
  },
  {
   "cell_type": "code",
   "execution_count": 3,
   "id": "7efb6294",
   "metadata": {},
   "outputs": [
    {
     "name": "stdout",
     "output_type": "stream",
     "text": [
      "Enter a number to find the nth fibonacci number : \n"
     ]
    },
    {
     "data": {
      "text/plain": [
       "34"
      ]
     },
     "execution_count": 3,
     "metadata": {},
     "output_type": "execute_result"
    }
   ],
   "source": [
    "# fibonacci using recursion\n",
    "\n",
    "def fiboncacci(num):\n",
    "    if num == 0 or num ==1 :\n",
    "        return num \n",
    "    \n",
    "    return fiboncacci(num-1)+fiboncacci(num-2)\n",
    "\n",
    "\n",
    "print('Enter a number to find the nth fibonacci number : ')\n",
    "k= int(input())\n",
    "fiboncacci(k)"
   ]
  },
  {
   "cell_type": "code",
   "execution_count": 4,
   "id": "381baa8c",
   "metadata": {},
   "outputs": [
    {
     "name": "stdout",
     "output_type": "stream",
     "text": [
      "0 apple\n",
      "1 banana\n",
      "2 mango\n",
      "3 pineapple\n"
     ]
    }
   ],
   "source": [
    "values = [\n",
    "    'apple',\n",
    "    'banana',\n",
    "    'mango',\n",
    "    'pineapple'\n",
    "]\n",
    "\n",
    "for index, values in enumerate(values):\n",
    "    print(index,values)"
   ]
  },
  {
   "cell_type": "code",
   "execution_count": 1,
   "id": "c52a8d26",
   "metadata": {},
   "outputs": [
    {
     "data": {
      "text/plain": [
       "[1, 3]"
      ]
     },
     "execution_count": 1,
     "metadata": {},
     "output_type": "execute_result"
    }
   ],
   "source": [
    "# tow sum \n",
    "\n",
    "def sol(nums,target):\n",
    "    \n",
    "    new_dict={}\n",
    "    \n",
    "    for index,values in enumerate(nums):\n",
    "        complement = target-values\n",
    "        if complement in new_dict:\n",
    "            return [new_dict[complement],index]\n",
    "        new_dict[values]=index\n",
    "        \n",
    "k= [ 3,5,6,9,8]\n",
    "sol(k,14)"
   ]
  },
  {
   "cell_type": "code",
   "execution_count": null,
   "id": "216c5d99",
   "metadata": {},
   "outputs": [],
   "source": []
  },
  {
   "cell_type": "code",
   "execution_count": null,
   "id": "7d0ba790",
   "metadata": {},
   "outputs": [],
   "source": []
  },
  {
   "cell_type": "code",
   "execution_count": null,
   "id": "a04af27b",
   "metadata": {},
   "outputs": [],
   "source": []
  },
  {
   "cell_type": "code",
   "execution_count": null,
   "id": "2135dfb6",
   "metadata": {},
   "outputs": [],
   "source": []
  },
  {
   "cell_type": "code",
   "execution_count": null,
   "id": "31167501",
   "metadata": {},
   "outputs": [],
   "source": []
  },
  {
   "cell_type": "code",
   "execution_count": null,
   "id": "6dea004f",
   "metadata": {},
   "outputs": [],
   "source": []
  },
  {
   "cell_type": "code",
   "execution_count": null,
   "id": "271b2e29",
   "metadata": {},
   "outputs": [],
   "source": []
  }
 ],
 "metadata": {
  "kernelspec": {
   "display_name": "base",
   "language": "python",
   "name": "python3"
  },
  "language_info": {
   "codemirror_mode": {
    "name": "ipython",
    "version": 3
   },
   "file_extension": ".py",
   "mimetype": "text/x-python",
   "name": "python",
   "nbconvert_exporter": "python",
   "pygments_lexer": "ipython3",
   "version": "3.12.7"
  }
 },
 "nbformat": 4,
 "nbformat_minor": 5
}
