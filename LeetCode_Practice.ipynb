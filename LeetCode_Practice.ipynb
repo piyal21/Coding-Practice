{
 "cells": [
  {
   "cell_type": "code",
   "execution_count": null,
   "id": "f52dc30d",
   "metadata": {},
   "outputs": [],
   "source": [
    "test_case = int(input('Enter test case: '))\n",
    "for i in range (0,test_case):\n",
    "    k = str(input())\n",
    "    check(k)\n",
    "        \n",
    "        \n",
    "    \n",
    "    \n",
    "def check(k):\n",
    "    if k == 'abc':\n",
    "        print('yes')\n",
    "    \n",
    "    "
   ]
  },
  {
   "cell_type": "code",
   "execution_count": 4,
   "id": "7d8b83ea",
   "metadata": {},
   "outputs": [
    {
     "name": "stdout",
     "output_type": "stream",
     "text": [
      "3\n",
      "7\n",
      "11\n",
      "15\n"
     ]
    }
   ],
   "source": [
    "test_cases = int(input())\n",
    "for i in range (0,test_cases):\n",
    "    a, b = map(int,input().split())\n",
    "    print(a+b)"
   ]
  },
  {
   "cell_type": "code",
   "execution_count": 3,
   "id": "7efb6294",
   "metadata": {},
   "outputs": [
    {
     "name": "stdout",
     "output_type": "stream",
     "text": [
      "Enter a number to find the nth fibonacci number : \n"
     ]
    },
    {
     "data": {
      "text/plain": [
       "34"
      ]
     },
     "execution_count": 3,
     "metadata": {},
     "output_type": "execute_result"
    }
   ],
   "source": [
    "# fibonacci using recursion\n",
    "\n",
    "def fiboncacci(num):\n",
    "    if num == 0 or num ==1 :\n",
    "        return num \n",
    "    \n",
    "    return fiboncacci(num-1)+fiboncacci(num-2)\n",
    "\n",
    "\n",
    "print('Enter a number to find the nth fibonacci number : ')\n",
    "k= int(input())\n",
    "fiboncacci(k)"
   ]
  },
  {
   "cell_type": "code",
   "execution_count": 4,
   "id": "381baa8c",
   "metadata": {},
   "outputs": [
    {
     "name": "stdout",
     "output_type": "stream",
     "text": [
      "0 apple\n",
      "1 banana\n",
      "2 mango\n",
      "3 pineapple\n"
     ]
    }
   ],
   "source": [
    "values = [\n",
    "    'apple',\n",
    "    'banana',\n",
    "    'mango',\n",
    "    'pineapple'\n",
    "]\n",
    "\n",
    "for index, values in enumerate(values):\n",
    "    print(index,values)"
   ]
  },
  {
   "cell_type": "code",
   "execution_count": null,
   "id": "c52a8d26",
   "metadata": {},
   "outputs": [
    {
     "data": {
      "text/plain": [
       "[1, 3]"
      ]
     },
     "execution_count": 1,
     "metadata": {},
     "output_type": "execute_result"
    }
   ],
   "source": [
    "# two sum \n",
    "\n",
    "def sol(nums,target):\n",
    "    \n",
    "    new_dict={}\n",
    "    \n",
    "    for index,values in enumerate(nums):\n",
    "        complement = target-values\n",
    "        if complement in new_dict:\n",
    "            return [new_dict[complement],index]\n",
    "        new_dict[values]=index\n",
    "        \n",
    "k= [ 3,5,6,9,8]\n",
    "sol(k,14)"
   ]
  },
  {
   "cell_type": "code",
   "execution_count": null,
   "id": "216c5d99",
   "metadata": {},
   "outputs": [
    {
     "name": "stdout",
     "output_type": "stream",
     "text": [
      "10 2\n"
     ]
    }
   ],
   "source": [
    "def main():\n",
    "    x = int(input())\n",
    "    if x == 1:\n",
    "        print(-1)\n",
    "    else:\n",
    "        print(x,x)\n",
    " \n",
    "if __name__ == \"__main__\":\n",
    "    main()"
   ]
  },
  {
   "cell_type": "code",
   "execution_count": null,
   "id": "7d0ba790",
   "metadata": {},
   "outputs": [
    {
     "name": "stdout",
     "output_type": "stream",
     "text": [
      "8\n",
      "[1, 2, 4, 5, 6, 8, 9, 10]\n"
     ]
    }
   ],
   "source": [
    "# -> Bubble sort / Adjacent sort[swap]\n",
    "# ->Time complexity : O((n*(n+1))/2) or |  O(n^2) -> Avg/ Worst case\n",
    "# -> Best case : O(n^2)\n",
    "\n",
    "\n",
    "nums = [ 5,8,1,6,9,2,4,10]\n",
    "print(len(nums))\n",
    "\n",
    "def bubble_sort(nums):\n",
    "    \n",
    "    n =len(nums)\n",
    "    for i in range(n-2,-1,-1):\n",
    "        for j in range(0,i+1):\n",
    "            if nums[j] > nums[j+1]:\n",
    "                nums[j],nums[j+1]= nums[j+1],nums[j]\n",
    "    print(nums)\n",
    "    \n",
    "bubble_sort(nums)"
   ]
  },
  {
   "cell_type": "code",
   "execution_count": null,
   "id": "a04af27b",
   "metadata": {},
   "outputs": [],
   "source": [
    "# Optimized bubble sort \n",
    "# best case -> O(n)\n",
    "\n",
    "nums = [ 5,8,1,6,9,2,4,10]\n",
    "print(len(nums))\n",
    "\n",
    "def bubble_sort(nums):\n",
    "    \n",
    "    n =len(nums)\n",
    "    for i in range(n-2,-1,-1):\n",
    "        swap_done = False\n",
    "        for j in range(0,i+1):\n",
    "            if nums[j] > nums[j+1]:\n",
    "                nums[j],nums[j+1]= nums[j+1],nums[j]\n",
    "            swap_done=True\n",
    "            \n",
    "        if swap_done ==False:\n",
    "            break\n",
    "    print(nums)\n",
    "    \n",
    "bubble_sort(nums)"
   ]
  },
  {
   "cell_type": "code",
   "execution_count": 2,
   "id": "2135dfb6",
   "metadata": {},
   "outputs": [
    {
     "name": "stdout",
     "output_type": "stream",
     "text": [
      "[1, 3, 4, 5, 6, 7, 8, 9, 10]\n"
     ]
    }
   ],
   "source": [
    "# insertion sort\n",
    "\n",
    "nums = [ 3,5,6,4,8,9,10,7,1]\n",
    " \n",
    "\n",
    "\n",
    "def insertion_sort(nums):\n",
    "    n = len(nums)\n",
    "    \n",
    "    for i in range(1, n):\n",
    "        key = nums[i]\n",
    "        j = i -1 \n",
    "        \n",
    "        while j >=0 and nums[j] > key:\n",
    "            nums [ j +1 ] = nums[j]\n",
    "            j-=1\n",
    "            \n",
    "        nums[j+1]=key\n",
    "        \n",
    "        \n",
    "insertion_sort(nums)\n",
    "print(nums)"
   ]
  },
  {
   "cell_type": "code",
   "execution_count": null,
   "id": "6dea004f",
   "metadata": {},
   "outputs": [],
   "source": []
  },
  {
   "cell_type": "code",
   "execution_count": null,
   "id": "271b2e29",
   "metadata": {},
   "outputs": [],
   "source": []
  }
 ],
 "metadata": {
  "kernelspec": {
   "display_name": "base",
   "language": "python",
   "name": "python3"
  },
  "language_info": {
   "codemirror_mode": {
    "name": "ipython",
    "version": 3
   },
   "file_extension": ".py",
   "mimetype": "text/x-python",
   "name": "python",
   "nbconvert_exporter": "python",
   "pygments_lexer": "ipython3",
   "version": "3.12.7"
  }
 },
 "nbformat": 4,
 "nbformat_minor": 5
}
